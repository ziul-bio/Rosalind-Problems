{
 "cells": [
  {
   "cell_type": "markdown",
   "source": [
    "## Rosalind Problems - Python Village"
   ],
   "metadata": {}
  },
  {
   "cell_type": "markdown",
   "source": [
    "Problem 1  \r\n",
    "After downloading and installing Python, type import this into the Python command line and see what happens. Then, click the \"Download dataset\" button below and copy the Zen of Python into the space provided.\r\n"
   ],
   "metadata": {}
  },
  {
   "cell_type": "code",
   "execution_count": 1,
   "source": [
    "import this"
   ],
   "outputs": [
    {
     "output_type": "stream",
     "name": "stdout",
     "text": [
      "The Zen of Python, by Tim Peters\n",
      "\n",
      "Beautiful is better than ugly.\n",
      "Explicit is better than implicit.\n",
      "Simple is better than complex.\n",
      "Complex is better than complicated.\n",
      "Flat is better than nested.\n",
      "Sparse is better than dense.\n",
      "Readability counts.\n",
      "Special cases aren't special enough to break the rules.\n",
      "Although practicality beats purity.\n",
      "Errors should never pass silently.\n",
      "Unless explicitly silenced.\n",
      "In the face of ambiguity, refuse the temptation to guess.\n",
      "There should be one-- and preferably only one --obvious way to do it.\n",
      "Although that way may not be obvious at first unless you're Dutch.\n",
      "Now is better than never.\n",
      "Although never is often better than *right* now.\n",
      "If the implementation is hard to explain, it's a bad idea.\n",
      "If the implementation is easy to explain, it may be a good idea.\n",
      "Namespaces are one honking great idea -- let's do more of those!\n"
     ]
    }
   ],
   "metadata": {}
  },
  {
   "cell_type": "markdown",
   "source": [
    "Problem 2  \r\n",
    "Given: Two positive integers a and b, each less than 1000.  \r\n",
    "Return: The integer corresponding to the square of the hypotenuse of the right triangle whose legs have lengths a and b.\r\n"
   ],
   "metadata": {}
  },
  {
   "cell_type": "code",
   "execution_count": 2,
   "source": [
    "a= 936 \r\n",
    "b = 818\r\n",
    "h = a**2 + b**2\r\n",
    "print(h)"
   ],
   "outputs": [
    {
     "output_type": "stream",
     "name": "stdout",
     "text": [
      "1545220\n"
     ]
    }
   ],
   "metadata": {}
  },
  {
   "cell_type": "markdown",
   "source": [
    "Problem 3  \r\n",
    "Given: A string s of length at most 200 letters and four integers a, b, c and d.  \r\n",
    "Return: The slice of this string from indices a through b and c through d (with space in between), inclusively. In other words, we should include elements s[b] and s[d] in our slice.\r\n"
   ],
   "metadata": {}
  },
  {
   "cell_type": "code",
   "execution_count": 3,
   "source": [
    "s = '0RgX025Z7wMCinclusGHxEAv1fiMPSlARU2LrlmnXahFEU2mU3un1ba0QLEHXBBdPheUV30W3CKqoedicnemusGb9aKRS5EqCcKghDNMog7glZtfnVxbbBRrxcOs5KLYlYqw4xjGyGJol9zR6fWXT87ZGiH5uRXEAa0K9m24W0FN5thVRwjLj'\r\n",
    "\r\n",
    "a = 11\r\n",
    "b = 17\r\n",
    "c = 76\r\n",
    "d = 85\r\n",
    "\r\n",
    "print(s[a:b+1], s[c:d+1])\r\n",
    "print(f'The slices from the text are: {s[a:b+1]} {s[c:d+1]}')"
   ],
   "outputs": [
    {
     "output_type": "stream",
     "name": "stdout",
     "text": [
      "Cinclus oedicnemus\n",
      "The slices from the text are: Cinclus oedicnemus\n"
     ]
    }
   ],
   "metadata": {}
  },
  {
   "cell_type": "markdown",
   "source": [
    "Problem 4  \r\n",
    "Given: Two positive integers a and b (a<b<10000).  \r\n",
    "Return: The sum of all odd integers from a through b, inclusively\r\n"
   ],
   "metadata": {}
  },
  {
   "cell_type": "code",
   "execution_count": 4,
   "source": [
    "a = 4863 \r\n",
    "b = 9354\r\n",
    "Sum = 0\r\n",
    "for i in range(a, b+1):\r\n",
    "    if i % 2 !=0:\r\n",
    "        Sum += i\r\n",
    "print(Sum)"
   ],
   "outputs": [
    {
     "output_type": "stream",
     "name": "stdout",
     "text": [
      "15964568\n"
     ]
    }
   ],
   "metadata": {}
  },
  {
   "cell_type": "code",
   "execution_count": 5,
   "source": [
    "# Problem 4 - version 2\r\n",
    "SUM = sum(x for x in range(a, b+1) if x % 2 != 0)\r\n",
    "print(SUM)"
   ],
   "outputs": [
    {
     "output_type": "stream",
     "name": "stdout",
     "text": [
      "15964568\n"
     ]
    }
   ],
   "metadata": {}
  },
  {
   "cell_type": "markdown",
   "source": [
    "Problem 5  \r\n",
    "Given: A file containing at most 1000 lines.  \r\n",
    "Return: A file containing all the even-numbered lines from the original file. Assume 1-based numbering of lines.\r\n"
   ],
   "metadata": {}
  },
  {
   "cell_type": "code",
   "execution_count": 6,
   "source": [
    "with open('rosalind_5.txt') as f:\r\n",
    "    file = f.readlines()\r\n",
    "\r\n",
    "# Checking the file lenght:\r\n",
    "print('File lenght:' , len(file))\r\n",
    "\r\n",
    "# Checking if indexing is working:\r\n",
    "print('The line with index 1 is: ', file[1])"
   ],
   "outputs": [
    {
     "output_type": "stream",
     "name": "stdout",
     "text": [
      "File lenght: 8\n",
      "The line with index 1 is:  Yes, brave Sir Robin turned about\n",
      "\n"
     ]
    }
   ],
   "metadata": {}
  },
  {
   "cell_type": "code",
   "execution_count": 7,
   "source": [
    "# Now I can Open the file rosalind_5 from the dataset. Appling a loop over the file len, with a condition of 'if l % 2 !=0:'\r\n",
    "# will select just the odds lines, which I can append it to a variable call output.\r\n",
    "output = []\r\n",
    "with open('rosalind_ini5.txt') as f:\r\n",
    "    file = f.readlines()\r\n",
    "    for l in range(0, len(file)):\r\n",
    "        if l % 2 !=0:\r\n",
    "            output.append(file[l])\r\n",
    "            \r\n",
    "print(output)"
   ],
   "outputs": [
    {
     "output_type": "stream",
     "name": "stdout",
     "text": [
      "['Some things in life are bad, they can really make you mad\\n', 'Other things just make you swear and curse\\n', \"When you're chewing on life's gristle, don't grumble give a whistle\\n\", 'This will help things turn out for the best\\n', 'Always look on the bright side of life\\n', 'Always look on the right side of life\\n', \"If life seems jolly rotten, there's something you've forgotten\\n\", \"And that's to laugh and smile and dance and sing\\n\", \"When you're feeling in the dumps, don't be silly, chumps\\n\", \"Just purse your lips and whistle, that's the thing\\n\", 'So, always look on the bright side of death\\n', 'Just before you draw your terminal breath\\n', \"Life's a counterfeit and when you look at it\\n\", \"Life's a laugh and death's the joke, it's true\\n\", \"You see, it's all a show, keep them laughing as you go\\n\", 'Just remember the last laugh is on you\\n', 'Always look on the bright side of life\\n', 'And always look on the right side of life\\n', 'Always look on the bright side of life\\n', 'And always look on the right side of life\\n']\n"
     ]
    }
   ],
   "metadata": {}
  },
  {
   "cell_type": "code",
   "execution_count": 8,
   "source": [
    "# Now that a I have a variable with all the lines of interest, I can write them to a new file.\r\n",
    "# firstly a loop over the list output, with a list cohnprehension, to acess the strings in the list, and then,\r\n",
    "# join it to the new file call result.\r\n",
    "with open('result.txt', 'w') as f:\r\n",
    "    f.write(''.join([i for i in output]))"
   ],
   "outputs": [],
   "metadata": {}
  },
  {
   "cell_type": "markdown",
   "source": [
    "Problem 6  \r\n",
    "Given: A string s of length at most 10000 letters.  \r\n",
    "Return: The number of occurrences of each word in s, where words are separated by spaces. Words are case-sensitive, and the lines in the output can be in any order."
   ],
   "metadata": {}
  },
  {
   "cell_type": "code",
   "execution_count": 9,
   "source": [
    "\r\n",
    "#data = 'We tried list and we tried dicts also we tried Zen'\r\n",
    "data = 'When I find myself in times of trouble Mother Mary comes to me Speaking words of wisdom let it be And in my hour of darkness she is standing right in front of me Speaking words of wisdom let it be Let it be let it be let it be let it be Whisper words of wisdom let it be And when the broken hearted people living in the world agree There will be an answer let it be For though they may be parted there is still a chance that they will see There will be an answer let it be Let it be let it be let it be let it be There will be an answer let it be Let it be let it be let it be let it be Whisper words of wisdom let it be Let it be let it be let it be let it be Whisper words of wisdom let it be And when the night is cloudy there is still a light that shines on me Shine until tomorrow let it be I wake up to the sound of music Mother Mary comes to me Speaking words of wisdom let it be Let it be let it be let it be yeah let it be There will be an answer let it be Let it be let it be let it be yeah let it be Whisper words of wisdom let it be'\r\n",
    "\r\n",
    "counter = {}\r\n",
    "\r\n",
    "for i in data.split():\r\n",
    "    if i not in counter:\r\n",
    "        counter[i] = 0\r\n",
    "    counter[i] += 1\r\n",
    "\r\n",
    "for key , val in counter.items():\r\n",
    "    print (key, val)\r\n"
   ],
   "outputs": [
    {
     "output_type": "stream",
     "name": "stdout",
     "text": [
      "When 1\n",
      "I 2\n",
      "find 1\n",
      "myself 1\n",
      "in 4\n",
      "times 1\n",
      "of 11\n",
      "trouble 1\n",
      "Mother 2\n",
      "Mary 2\n",
      "comes 2\n",
      "to 3\n",
      "me 4\n",
      "Speaking 3\n",
      "words 7\n",
      "wisdom 7\n",
      "let 30\n",
      "it 36\n",
      "be 41\n",
      "And 3\n",
      "my 1\n",
      "hour 1\n",
      "darkness 1\n",
      "she 1\n",
      "is 4\n",
      "standing 1\n",
      "right 1\n",
      "front 1\n",
      "Let 6\n",
      "Whisper 4\n",
      "when 2\n",
      "the 4\n",
      "broken 1\n",
      "hearted 1\n",
      "people 1\n",
      "living 1\n",
      "world 1\n",
      "agree 1\n",
      "There 4\n",
      "will 5\n",
      "an 4\n",
      "answer 4\n",
      "For 1\n",
      "though 1\n",
      "they 2\n",
      "may 1\n",
      "parted 1\n",
      "there 2\n",
      "still 2\n",
      "a 2\n",
      "chance 1\n",
      "that 2\n",
      "see 1\n",
      "night 1\n",
      "cloudy 1\n",
      "light 1\n",
      "shines 1\n",
      "on 1\n",
      "Shine 1\n",
      "until 1\n",
      "tomorrow 1\n",
      "wake 1\n",
      "up 1\n",
      "sound 1\n",
      "music 1\n",
      "yeah 2\n"
     ]
    }
   ],
   "metadata": {}
  }
 ],
 "metadata": {
  "interpreter": {
   "hash": "256b550e27a01a486617a94bb46c9f5a9b96ae4c87f007bd03dec2cfb1a19284"
  },
  "kernelspec": {
   "name": "python3",
   "display_name": "Python 3.8.11 64-bit ('env1': conda)"
  },
  "language_info": {
   "codemirror_mode": {
    "name": "ipython",
    "version": 3
   },
   "file_extension": ".py",
   "mimetype": "text/x-python",
   "name": "python",
   "nbconvert_exporter": "python",
   "pygments_lexer": "ipython3",
   "version": "3.8.11"
  }
 },
 "nbformat": 4,
 "nbformat_minor": 2
}